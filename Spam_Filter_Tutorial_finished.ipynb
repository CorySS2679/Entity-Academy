{
 "cells": [
  {
   "cell_type": "markdown",
   "id": "ba6fc5bc",
   "metadata": {},
   "source": [
    "### Spam Filter in Python: Naive Bayes from Scratch\n",
    "#### https://www.kdnuggets.com/2020/07/spam-filter-python-naive-bayes-scratch.html"
   ]
  },
  {
   "cell_type": "markdown",
   "id": "9c355855",
   "metadata": {},
   "source": [
    "Read in and look at the data."
   ]
  },
  {
   "cell_type": "code",
   "execution_count": 76,
   "id": "17489a35",
   "metadata": {},
   "outputs": [],
   "source": [
    "import pandas as pd"
   ]
  },
  {
   "cell_type": "code",
   "execution_count": 77,
   "id": "27406342",
   "metadata": {},
   "outputs": [],
   "source": [
    "sms_spam = pd.read_csv(r\"C:\\Users\\Cory\\Dropbox\\PC\\Documents\\ENTITY\\final_project\\spamhamdata.csv\", sep='\\t', header=None, names=['Label', 'SMS'])"
   ]
  },
  {
   "cell_type": "code",
   "execution_count": 78,
   "id": "028323e1",
   "metadata": {},
   "outputs": [
    {
     "data": {
      "text/html": [
       "<div>\n",
       "<style scoped>\n",
       "    .dataframe tbody tr th:only-of-type {\n",
       "        vertical-align: middle;\n",
       "    }\n",
       "\n",
       "    .dataframe tbody tr th {\n",
       "        vertical-align: top;\n",
       "    }\n",
       "\n",
       "    .dataframe thead th {\n",
       "        text-align: right;\n",
       "    }\n",
       "</style>\n",
       "<table border=\"1\" class=\"dataframe\">\n",
       "  <thead>\n",
       "    <tr style=\"text-align: right;\">\n",
       "      <th></th>\n",
       "      <th>Label</th>\n",
       "      <th>SMS</th>\n",
       "    </tr>\n",
       "  </thead>\n",
       "  <tbody>\n",
       "    <tr>\n",
       "      <th>0</th>\n",
       "      <td>ham</td>\n",
       "      <td>Go until jurong point, crazy.. Available only ...</td>\n",
       "    </tr>\n",
       "    <tr>\n",
       "      <th>1</th>\n",
       "      <td>ham</td>\n",
       "      <td>Ok lar... Joking wif u oni...</td>\n",
       "    </tr>\n",
       "    <tr>\n",
       "      <th>2</th>\n",
       "      <td>spam</td>\n",
       "      <td>Free entry in 2 a wkly comp to win FA Cup fina...</td>\n",
       "    </tr>\n",
       "    <tr>\n",
       "      <th>3</th>\n",
       "      <td>ham</td>\n",
       "      <td>U dun say so early hor... U c already then say...</td>\n",
       "    </tr>\n",
       "    <tr>\n",
       "      <th>4</th>\n",
       "      <td>ham</td>\n",
       "      <td>Nah I don't think he goes to usf, he lives aro...</td>\n",
       "    </tr>\n",
       "  </tbody>\n",
       "</table>\n",
       "</div>"
      ],
      "text/plain": [
       "  Label                                                SMS\n",
       "0   ham  Go until jurong point, crazy.. Available only ...\n",
       "1   ham                      Ok lar... Joking wif u oni...\n",
       "2  spam  Free entry in 2 a wkly comp to win FA Cup fina...\n",
       "3   ham  U dun say so early hor... U c already then say...\n",
       "4   ham  Nah I don't think he goes to usf, he lives aro..."
      ]
     },
     "execution_count": 78,
     "metadata": {},
     "output_type": "execute_result"
    }
   ],
   "source": [
    "sms_spam.head()"
   ]
  },
  {
   "cell_type": "code",
   "execution_count": 79,
   "id": "f0adc0e9",
   "metadata": {},
   "outputs": [
    {
     "data": {
      "text/html": [
       "<div>\n",
       "<style scoped>\n",
       "    .dataframe tbody tr th:only-of-type {\n",
       "        vertical-align: middle;\n",
       "    }\n",
       "\n",
       "    .dataframe tbody tr th {\n",
       "        vertical-align: top;\n",
       "    }\n",
       "\n",
       "    .dataframe thead th {\n",
       "        text-align: right;\n",
       "    }\n",
       "</style>\n",
       "<table border=\"1\" class=\"dataframe\">\n",
       "  <thead>\n",
       "    <tr style=\"text-align: right;\">\n",
       "      <th></th>\n",
       "      <th>Label</th>\n",
       "      <th>SMS</th>\n",
       "    </tr>\n",
       "  </thead>\n",
       "  <tbody>\n",
       "    <tr>\n",
       "      <th>count</th>\n",
       "      <td>5572</td>\n",
       "      <td>5572</td>\n",
       "    </tr>\n",
       "    <tr>\n",
       "      <th>unique</th>\n",
       "      <td>2</td>\n",
       "      <td>5169</td>\n",
       "    </tr>\n",
       "    <tr>\n",
       "      <th>top</th>\n",
       "      <td>ham</td>\n",
       "      <td>Sorry, I'll call later</td>\n",
       "    </tr>\n",
       "    <tr>\n",
       "      <th>freq</th>\n",
       "      <td>4825</td>\n",
       "      <td>30</td>\n",
       "    </tr>\n",
       "  </tbody>\n",
       "</table>\n",
       "</div>"
      ],
      "text/plain": [
       "       Label                     SMS\n",
       "count   5572                    5572\n",
       "unique     2                    5169\n",
       "top      ham  Sorry, I'll call later\n",
       "freq    4825                      30"
      ]
     },
     "execution_count": 79,
     "metadata": {},
     "output_type": "execute_result"
    }
   ],
   "source": [
    "sms_spam.describe()"
   ]
  },
  {
   "cell_type": "code",
   "execution_count": 80,
   "id": "5f773f43",
   "metadata": {},
   "outputs": [
    {
     "data": {
      "text/plain": [
       "ham     0.865937\n",
       "spam    0.134063\n",
       "Name: Label, dtype: float64"
      ]
     },
     "execution_count": 80,
     "metadata": {},
     "output_type": "execute_result"
    }
   ],
   "source": [
    "sms_spam['Label'].value_counts(normalize=True)"
   ]
  },
  {
   "cell_type": "markdown",
   "id": "d8dc785c",
   "metadata": {},
   "source": [
    "The dataset is made of about 87% ham and 13% spam."
   ]
  },
  {
   "cell_type": "markdown",
   "id": "c142d70e",
   "metadata": {},
   "source": [
    "Randomize the dataset and split 20/80 for training and testing."
   ]
  },
  {
   "cell_type": "code",
   "execution_count": 81,
   "id": "f9a49bc9",
   "metadata": {},
   "outputs": [],
   "source": [
    "RandSpam = sms_spam.sample(frac=1, random_state=1)"
   ]
  },
  {
   "cell_type": "markdown",
   "id": "690aeb58",
   "metadata": {},
   "source": [
    "Calculate index for the split."
   ]
  },
  {
   "cell_type": "code",
   "execution_count": 82,
   "id": "088bd0b5",
   "metadata": {},
   "outputs": [],
   "source": [
    "trainTest_index = round(len(RandSpam) * 0.8)"
   ]
  },
  {
   "cell_type": "markdown",
   "id": "c3cfbbb1",
   "metadata": {},
   "source": [
    "Split"
   ]
  },
  {
   "cell_type": "code",
   "execution_count": 83,
   "id": "1104333b",
   "metadata": {},
   "outputs": [],
   "source": [
    "trainData = RandSpam[:trainTest_index].reset_index(drop=True)"
   ]
  },
  {
   "cell_type": "code",
   "execution_count": 84,
   "id": "7edf4148",
   "metadata": {},
   "outputs": [
    {
     "name": "stdout",
     "output_type": "stream",
     "text": [
      "(4458, 2)\n"
     ]
    }
   ],
   "source": [
    "print(trainData.shape)"
   ]
  },
  {
   "cell_type": "code",
   "execution_count": 85,
   "id": "c54578ae",
   "metadata": {},
   "outputs": [],
   "source": [
    "testData = RandSpam[trainTest_index:].reset_index(drop=True)"
   ]
  },
  {
   "cell_type": "code",
   "execution_count": 86,
   "id": "3e5189b1",
   "metadata": {},
   "outputs": [
    {
     "name": "stdout",
     "output_type": "stream",
     "text": [
      "(1114, 2)\n"
     ]
    }
   ],
   "source": [
    "print(testData.shape)"
   ]
  },
  {
   "cell_type": "markdown",
   "id": "f767d872",
   "metadata": {},
   "source": [
    "Compare percent ham/spam in training and testing datasets to the percentages in original data. Should be similar."
   ]
  },
  {
   "cell_type": "code",
   "execution_count": 87,
   "id": "a93cff83",
   "metadata": {},
   "outputs": [
    {
     "data": {
      "text/plain": [
       "ham     0.86541\n",
       "spam    0.13459\n",
       "Name: Label, dtype: float64"
      ]
     },
     "execution_count": 87,
     "metadata": {},
     "output_type": "execute_result"
    }
   ],
   "source": [
    "trainData['Label'].value_counts(normalize=True)"
   ]
  },
  {
   "cell_type": "code",
   "execution_count": 88,
   "id": "f14e79ac",
   "metadata": {},
   "outputs": [
    {
     "data": {
      "text/plain": [
       "ham     0.868043\n",
       "spam    0.131957\n",
       "Name: Label, dtype: float64"
      ]
     },
     "execution_count": 88,
     "metadata": {},
     "output_type": "execute_result"
    }
   ],
   "source": [
    "testData['Label'].value_counts(normalize=True)"
   ]
  },
  {
   "cell_type": "markdown",
   "id": "7fbfbb0e",
   "metadata": {},
   "source": [
    "### Clean the data"
   ]
  },
  {
   "cell_type": "markdown",
   "id": "313d5198",
   "metadata": {},
   "source": [
    "**before cleaning**"
   ]
  },
  {
   "cell_type": "code",
   "execution_count": 89,
   "id": "704dd77b",
   "metadata": {},
   "outputs": [
    {
     "data": {
      "text/html": [
       "<div>\n",
       "<style scoped>\n",
       "    .dataframe tbody tr th:only-of-type {\n",
       "        vertical-align: middle;\n",
       "    }\n",
       "\n",
       "    .dataframe tbody tr th {\n",
       "        vertical-align: top;\n",
       "    }\n",
       "\n",
       "    .dataframe thead th {\n",
       "        text-align: right;\n",
       "    }\n",
       "</style>\n",
       "<table border=\"1\" class=\"dataframe\">\n",
       "  <thead>\n",
       "    <tr style=\"text-align: right;\">\n",
       "      <th></th>\n",
       "      <th>Label</th>\n",
       "      <th>SMS</th>\n",
       "    </tr>\n",
       "  </thead>\n",
       "  <tbody>\n",
       "    <tr>\n",
       "      <th>0</th>\n",
       "      <td>ham</td>\n",
       "      <td>Yep, by the pretty sculpture</td>\n",
       "    </tr>\n",
       "    <tr>\n",
       "      <th>1</th>\n",
       "      <td>ham</td>\n",
       "      <td>Yes, princess. Are you going to make me moan?</td>\n",
       "    </tr>\n",
       "    <tr>\n",
       "      <th>2</th>\n",
       "      <td>ham</td>\n",
       "      <td>Welp apparently he retired</td>\n",
       "    </tr>\n",
       "    <tr>\n",
       "      <th>3</th>\n",
       "      <td>ham</td>\n",
       "      <td>Havent.</td>\n",
       "    </tr>\n",
       "    <tr>\n",
       "      <th>4</th>\n",
       "      <td>ham</td>\n",
       "      <td>I forgot 2 ask ü all smth.. There's a card on ...</td>\n",
       "    </tr>\n",
       "  </tbody>\n",
       "</table>\n",
       "</div>"
      ],
      "text/plain": [
       "  Label                                                SMS\n",
       "0   ham                       Yep, by the pretty sculpture\n",
       "1   ham      Yes, princess. Are you going to make me moan?\n",
       "2   ham                         Welp apparently he retired\n",
       "3   ham                                            Havent.\n",
       "4   ham  I forgot 2 ask ü all smth.. There's a card on ..."
      ]
     },
     "execution_count": 89,
     "metadata": {},
     "output_type": "execute_result"
    }
   ],
   "source": [
    "trainData.head()"
   ]
  },
  {
   "cell_type": "markdown",
   "id": "fcd7daab",
   "metadata": {},
   "source": [
    "Remove punctuation."
   ]
  },
  {
   "cell_type": "code",
   "execution_count": 90,
   "id": "60ca6e58",
   "metadata": {},
   "outputs": [
    {
     "name": "stderr",
     "output_type": "stream",
     "text": [
      "C:\\Users\\Cory\\AppData\\Local\\Temp/ipykernel_19948/2456701655.py:1: FutureWarning: The default value of regex will change from True to False in a future version.\n",
      "  trainData['SMS'] = trainData['SMS'].str.replace(\n"
     ]
    }
   ],
   "source": [
    "trainData['SMS'] = trainData['SMS'].str.replace(\n",
    "   '\\W', ' ') "
   ]
  },
  {
   "cell_type": "markdown",
   "id": "5df7a86a",
   "metadata": {},
   "source": [
    "Make lowercase."
   ]
  },
  {
   "cell_type": "code",
   "execution_count": 91,
   "id": "54ba89a0",
   "metadata": {},
   "outputs": [],
   "source": [
    "trainData['SMS'] = trainData['SMS'].str.lower()"
   ]
  },
  {
   "cell_type": "markdown",
   "id": "5402c9b6",
   "metadata": {},
   "source": [
    "**after cleaning**"
   ]
  },
  {
   "cell_type": "code",
   "execution_count": 92,
   "id": "0de8d1fb",
   "metadata": {},
   "outputs": [
    {
     "data": {
      "text/html": [
       "<div>\n",
       "<style scoped>\n",
       "    .dataframe tbody tr th:only-of-type {\n",
       "        vertical-align: middle;\n",
       "    }\n",
       "\n",
       "    .dataframe tbody tr th {\n",
       "        vertical-align: top;\n",
       "    }\n",
       "\n",
       "    .dataframe thead th {\n",
       "        text-align: right;\n",
       "    }\n",
       "</style>\n",
       "<table border=\"1\" class=\"dataframe\">\n",
       "  <thead>\n",
       "    <tr style=\"text-align: right;\">\n",
       "      <th></th>\n",
       "      <th>Label</th>\n",
       "      <th>SMS</th>\n",
       "    </tr>\n",
       "  </thead>\n",
       "  <tbody>\n",
       "    <tr>\n",
       "      <th>0</th>\n",
       "      <td>ham</td>\n",
       "      <td>yep  by the pretty sculpture</td>\n",
       "    </tr>\n",
       "    <tr>\n",
       "      <th>1</th>\n",
       "      <td>ham</td>\n",
       "      <td>yes  princess  are you going to make me moan</td>\n",
       "    </tr>\n",
       "    <tr>\n",
       "      <th>2</th>\n",
       "      <td>ham</td>\n",
       "      <td>welp apparently he retired</td>\n",
       "    </tr>\n",
       "    <tr>\n",
       "      <th>3</th>\n",
       "      <td>ham</td>\n",
       "      <td>havent</td>\n",
       "    </tr>\n",
       "    <tr>\n",
       "      <th>4</th>\n",
       "      <td>ham</td>\n",
       "      <td>i forgot 2 ask ü all smth   there s a card on ...</td>\n",
       "    </tr>\n",
       "  </tbody>\n",
       "</table>\n",
       "</div>"
      ],
      "text/plain": [
       "  Label                                                SMS\n",
       "0   ham                       yep  by the pretty sculpture\n",
       "1   ham      yes  princess  are you going to make me moan \n",
       "2   ham                         welp apparently he retired\n",
       "3   ham                                            havent \n",
       "4   ham  i forgot 2 ask ü all smth   there s a card on ..."
      ]
     },
     "execution_count": 92,
     "metadata": {},
     "output_type": "execute_result"
    }
   ],
   "source": [
    "trainData.head()"
   ]
  },
  {
   "cell_type": "markdown",
   "id": "0bd1db92",
   "metadata": {},
   "source": [
    "Split SMS message strings into individual words, using spaces as cues to guide where to divide."
   ]
  },
  {
   "cell_type": "code",
   "execution_count": 93,
   "id": "bb26c6bd",
   "metadata": {},
   "outputs": [],
   "source": [
    "trainData['SMS'] = trainData['SMS'].str.split()"
   ]
  },
  {
   "cell_type": "markdown",
   "id": "a994b897",
   "metadata": {},
   "source": [
    "Create an empty vocabulary list."
   ]
  },
  {
   "cell_type": "code",
   "execution_count": 94,
   "id": "d881c07d",
   "metadata": {},
   "outputs": [],
   "source": [
    "vocabulary=[]"
   ]
  },
  {
   "cell_type": "markdown",
   "id": "6411322c",
   "metadata": {},
   "source": [
    "Go through SMS list and add every word that was split out to the vocabulary list."
   ]
  },
  {
   "cell_type": "code",
   "execution_count": 95,
   "id": "15c2085f",
   "metadata": {},
   "outputs": [],
   "source": [
    "for sms in trainData['SMS']:\n",
    "   for word in sms:\n",
    "      vocabulary.append(word)"
   ]
  },
  {
   "cell_type": "markdown",
   "id": "ffe20c7d",
   "metadata": {},
   "source": [
    "Remove duplicates by changing the list into a set; then change the set back into a list. Check the length of the vocabulary list."
   ]
  },
  {
   "cell_type": "code",
   "execution_count": 96,
   "id": "390e1b1c",
   "metadata": {},
   "outputs": [
    {
     "data": {
      "text/plain": [
       "7783"
      ]
     },
     "execution_count": 96,
     "metadata": {},
     "output_type": "execute_result"
    }
   ],
   "source": [
    "vocabulary = list(set(vocabulary))\n",
    "len(vocabulary)"
   ]
  },
  {
   "cell_type": "markdown",
   "id": "1d3c1a7c",
   "metadata": {},
   "source": [
    "Need to build a refined training dataset. The vocabulary list will be the basis for building a dictionary."
   ]
  },
  {
   "cell_type": "markdown",
   "id": "5c766697",
   "metadata": {},
   "source": [
    "The lengths of the words are used to determine their indices. The indexes and the words themselves are used to code the dictionary for the training dataset. Honestly, the exact explanation for what is happening is confusing to me."
   ]
  },
  {
   "cell_type": "code",
   "execution_count": 97,
   "id": "27654aa1",
   "metadata": {},
   "outputs": [],
   "source": [
    "smsWordCounts = {unique_word: [0] * len(trainData['SMS']) for unique_word in vocabulary}"
   ]
  },
  {
   "cell_type": "code",
   "execution_count": 98,
   "id": "8f7ae005",
   "metadata": {},
   "outputs": [],
   "source": [
    "for index, sms in enumerate(trainData['SMS']):\n",
    "   for word in sms:\n",
    "      smsWordCounts[word][index] += 1"
   ]
  },
  {
   "cell_type": "markdown",
   "id": "a69e22eb",
   "metadata": {},
   "source": [
    "Using this dictionary, get the word counts from the training dataset."
   ]
  },
  {
   "cell_type": "code",
   "execution_count": 99,
   "id": "4a11cdbf",
   "metadata": {},
   "outputs": [
    {
     "data": {
      "text/html": [
       "<div>\n",
       "<style scoped>\n",
       "    .dataframe tbody tr th:only-of-type {\n",
       "        vertical-align: middle;\n",
       "    }\n",
       "\n",
       "    .dataframe tbody tr th {\n",
       "        vertical-align: top;\n",
       "    }\n",
       "\n",
       "    .dataframe thead th {\n",
       "        text-align: right;\n",
       "    }\n",
       "</style>\n",
       "<table border=\"1\" class=\"dataframe\">\n",
       "  <thead>\n",
       "    <tr style=\"text-align: right;\">\n",
       "      <th></th>\n",
       "      <th>got</th>\n",
       "      <th>jaya</th>\n",
       "      <th>nasdaq</th>\n",
       "      <th>82468</th>\n",
       "      <th>across</th>\n",
       "      <th>toothpaste</th>\n",
       "      <th>surely</th>\n",
       "      <th>potato</th>\n",
       "      <th>1000call</th>\n",
       "      <th>philosophical</th>\n",
       "      <th>...</th>\n",
       "      <th>gal</th>\n",
       "      <th>hugs</th>\n",
       "      <th>aiya</th>\n",
       "      <th>thinking</th>\n",
       "      <th>nike</th>\n",
       "      <th>dracula</th>\n",
       "      <th>mustprovide</th>\n",
       "      <th>fucks</th>\n",
       "      <th>viva</th>\n",
       "      <th>mth</th>\n",
       "    </tr>\n",
       "  </thead>\n",
       "  <tbody>\n",
       "    <tr>\n",
       "      <th>0</th>\n",
       "      <td>0</td>\n",
       "      <td>0</td>\n",
       "      <td>0</td>\n",
       "      <td>0</td>\n",
       "      <td>0</td>\n",
       "      <td>0</td>\n",
       "      <td>0</td>\n",
       "      <td>0</td>\n",
       "      <td>0</td>\n",
       "      <td>0</td>\n",
       "      <td>...</td>\n",
       "      <td>0</td>\n",
       "      <td>0</td>\n",
       "      <td>0</td>\n",
       "      <td>0</td>\n",
       "      <td>0</td>\n",
       "      <td>0</td>\n",
       "      <td>0</td>\n",
       "      <td>0</td>\n",
       "      <td>0</td>\n",
       "      <td>0</td>\n",
       "    </tr>\n",
       "    <tr>\n",
       "      <th>1</th>\n",
       "      <td>0</td>\n",
       "      <td>0</td>\n",
       "      <td>0</td>\n",
       "      <td>0</td>\n",
       "      <td>0</td>\n",
       "      <td>0</td>\n",
       "      <td>0</td>\n",
       "      <td>0</td>\n",
       "      <td>0</td>\n",
       "      <td>0</td>\n",
       "      <td>...</td>\n",
       "      <td>0</td>\n",
       "      <td>0</td>\n",
       "      <td>0</td>\n",
       "      <td>0</td>\n",
       "      <td>0</td>\n",
       "      <td>0</td>\n",
       "      <td>0</td>\n",
       "      <td>0</td>\n",
       "      <td>0</td>\n",
       "      <td>0</td>\n",
       "    </tr>\n",
       "    <tr>\n",
       "      <th>2</th>\n",
       "      <td>0</td>\n",
       "      <td>0</td>\n",
       "      <td>0</td>\n",
       "      <td>0</td>\n",
       "      <td>0</td>\n",
       "      <td>0</td>\n",
       "      <td>0</td>\n",
       "      <td>0</td>\n",
       "      <td>0</td>\n",
       "      <td>0</td>\n",
       "      <td>...</td>\n",
       "      <td>0</td>\n",
       "      <td>0</td>\n",
       "      <td>0</td>\n",
       "      <td>0</td>\n",
       "      <td>0</td>\n",
       "      <td>0</td>\n",
       "      <td>0</td>\n",
       "      <td>0</td>\n",
       "      <td>0</td>\n",
       "      <td>0</td>\n",
       "    </tr>\n",
       "    <tr>\n",
       "      <th>3</th>\n",
       "      <td>0</td>\n",
       "      <td>0</td>\n",
       "      <td>0</td>\n",
       "      <td>0</td>\n",
       "      <td>0</td>\n",
       "      <td>0</td>\n",
       "      <td>0</td>\n",
       "      <td>0</td>\n",
       "      <td>0</td>\n",
       "      <td>0</td>\n",
       "      <td>...</td>\n",
       "      <td>0</td>\n",
       "      <td>0</td>\n",
       "      <td>0</td>\n",
       "      <td>0</td>\n",
       "      <td>0</td>\n",
       "      <td>0</td>\n",
       "      <td>0</td>\n",
       "      <td>0</td>\n",
       "      <td>0</td>\n",
       "      <td>0</td>\n",
       "    </tr>\n",
       "    <tr>\n",
       "      <th>4</th>\n",
       "      <td>0</td>\n",
       "      <td>0</td>\n",
       "      <td>0</td>\n",
       "      <td>0</td>\n",
       "      <td>0</td>\n",
       "      <td>0</td>\n",
       "      <td>0</td>\n",
       "      <td>0</td>\n",
       "      <td>0</td>\n",
       "      <td>0</td>\n",
       "      <td>...</td>\n",
       "      <td>0</td>\n",
       "      <td>0</td>\n",
       "      <td>0</td>\n",
       "      <td>0</td>\n",
       "      <td>0</td>\n",
       "      <td>0</td>\n",
       "      <td>0</td>\n",
       "      <td>0</td>\n",
       "      <td>0</td>\n",
       "      <td>0</td>\n",
       "    </tr>\n",
       "  </tbody>\n",
       "</table>\n",
       "<p>5 rows × 7783 columns</p>\n",
       "</div>"
      ],
      "text/plain": [
       "   got  jaya  nasdaq  82468  across  toothpaste  surely  potato  1000call  \\\n",
       "0    0     0       0      0       0           0       0       0         0   \n",
       "1    0     0       0      0       0           0       0       0         0   \n",
       "2    0     0       0      0       0           0       0       0         0   \n",
       "3    0     0       0      0       0           0       0       0         0   \n",
       "4    0     0       0      0       0           0       0       0         0   \n",
       "\n",
       "   philosophical  ...  gal  hugs  aiya  thinking  nike  dracula  mustprovide  \\\n",
       "0              0  ...    0     0     0         0     0        0            0   \n",
       "1              0  ...    0     0     0         0     0        0            0   \n",
       "2              0  ...    0     0     0         0     0        0            0   \n",
       "3              0  ...    0     0     0         0     0        0            0   \n",
       "4              0  ...    0     0     0         0     0        0            0   \n",
       "\n",
       "   fucks  viva  mth  \n",
       "0      0     0    0  \n",
       "1      0     0    0  \n",
       "2      0     0    0  \n",
       "3      0     0    0  \n",
       "4      0     0    0  \n",
       "\n",
       "[5 rows x 7783 columns]"
      ]
     },
     "execution_count": 99,
     "metadata": {},
     "output_type": "execute_result"
    }
   ],
   "source": [
    "word_counts = pd.DataFrame(smsWordCounts)\n",
    "word_counts.head()"
   ]
  },
  {
   "cell_type": "markdown",
   "id": "77e12418",
   "metadata": {},
   "source": [
    "Use concat() to add the label and sms columns."
   ]
  },
  {
   "cell_type": "code",
   "execution_count": 100,
   "id": "c396a20c",
   "metadata": {},
   "outputs": [
    {
     "data": {
      "text/html": [
       "<div>\n",
       "<style scoped>\n",
       "    .dataframe tbody tr th:only-of-type {\n",
       "        vertical-align: middle;\n",
       "    }\n",
       "\n",
       "    .dataframe tbody tr th {\n",
       "        vertical-align: top;\n",
       "    }\n",
       "\n",
       "    .dataframe thead th {\n",
       "        text-align: right;\n",
       "    }\n",
       "</style>\n",
       "<table border=\"1\" class=\"dataframe\">\n",
       "  <thead>\n",
       "    <tr style=\"text-align: right;\">\n",
       "      <th></th>\n",
       "      <th>Label</th>\n",
       "      <th>SMS</th>\n",
       "      <th>got</th>\n",
       "      <th>jaya</th>\n",
       "      <th>nasdaq</th>\n",
       "      <th>82468</th>\n",
       "      <th>across</th>\n",
       "      <th>toothpaste</th>\n",
       "      <th>surely</th>\n",
       "      <th>potato</th>\n",
       "      <th>...</th>\n",
       "      <th>gal</th>\n",
       "      <th>hugs</th>\n",
       "      <th>aiya</th>\n",
       "      <th>thinking</th>\n",
       "      <th>nike</th>\n",
       "      <th>dracula</th>\n",
       "      <th>mustprovide</th>\n",
       "      <th>fucks</th>\n",
       "      <th>viva</th>\n",
       "      <th>mth</th>\n",
       "    </tr>\n",
       "  </thead>\n",
       "  <tbody>\n",
       "    <tr>\n",
       "      <th>0</th>\n",
       "      <td>ham</td>\n",
       "      <td>[yep, by, the, pretty, sculpture]</td>\n",
       "      <td>0</td>\n",
       "      <td>0</td>\n",
       "      <td>0</td>\n",
       "      <td>0</td>\n",
       "      <td>0</td>\n",
       "      <td>0</td>\n",
       "      <td>0</td>\n",
       "      <td>0</td>\n",
       "      <td>...</td>\n",
       "      <td>0</td>\n",
       "      <td>0</td>\n",
       "      <td>0</td>\n",
       "      <td>0</td>\n",
       "      <td>0</td>\n",
       "      <td>0</td>\n",
       "      <td>0</td>\n",
       "      <td>0</td>\n",
       "      <td>0</td>\n",
       "      <td>0</td>\n",
       "    </tr>\n",
       "    <tr>\n",
       "      <th>1</th>\n",
       "      <td>ham</td>\n",
       "      <td>[yes, princess, are, you, going, to, make, me,...</td>\n",
       "      <td>0</td>\n",
       "      <td>0</td>\n",
       "      <td>0</td>\n",
       "      <td>0</td>\n",
       "      <td>0</td>\n",
       "      <td>0</td>\n",
       "      <td>0</td>\n",
       "      <td>0</td>\n",
       "      <td>...</td>\n",
       "      <td>0</td>\n",
       "      <td>0</td>\n",
       "      <td>0</td>\n",
       "      <td>0</td>\n",
       "      <td>0</td>\n",
       "      <td>0</td>\n",
       "      <td>0</td>\n",
       "      <td>0</td>\n",
       "      <td>0</td>\n",
       "      <td>0</td>\n",
       "    </tr>\n",
       "    <tr>\n",
       "      <th>2</th>\n",
       "      <td>ham</td>\n",
       "      <td>[welp, apparently, he, retired]</td>\n",
       "      <td>0</td>\n",
       "      <td>0</td>\n",
       "      <td>0</td>\n",
       "      <td>0</td>\n",
       "      <td>0</td>\n",
       "      <td>0</td>\n",
       "      <td>0</td>\n",
       "      <td>0</td>\n",
       "      <td>...</td>\n",
       "      <td>0</td>\n",
       "      <td>0</td>\n",
       "      <td>0</td>\n",
       "      <td>0</td>\n",
       "      <td>0</td>\n",
       "      <td>0</td>\n",
       "      <td>0</td>\n",
       "      <td>0</td>\n",
       "      <td>0</td>\n",
       "      <td>0</td>\n",
       "    </tr>\n",
       "    <tr>\n",
       "      <th>3</th>\n",
       "      <td>ham</td>\n",
       "      <td>[havent]</td>\n",
       "      <td>0</td>\n",
       "      <td>0</td>\n",
       "      <td>0</td>\n",
       "      <td>0</td>\n",
       "      <td>0</td>\n",
       "      <td>0</td>\n",
       "      <td>0</td>\n",
       "      <td>0</td>\n",
       "      <td>...</td>\n",
       "      <td>0</td>\n",
       "      <td>0</td>\n",
       "      <td>0</td>\n",
       "      <td>0</td>\n",
       "      <td>0</td>\n",
       "      <td>0</td>\n",
       "      <td>0</td>\n",
       "      <td>0</td>\n",
       "      <td>0</td>\n",
       "      <td>0</td>\n",
       "    </tr>\n",
       "    <tr>\n",
       "      <th>4</th>\n",
       "      <td>ham</td>\n",
       "      <td>[i, forgot, 2, ask, ü, all, smth, there, s, a,...</td>\n",
       "      <td>0</td>\n",
       "      <td>0</td>\n",
       "      <td>0</td>\n",
       "      <td>0</td>\n",
       "      <td>0</td>\n",
       "      <td>0</td>\n",
       "      <td>0</td>\n",
       "      <td>0</td>\n",
       "      <td>...</td>\n",
       "      <td>0</td>\n",
       "      <td>0</td>\n",
       "      <td>0</td>\n",
       "      <td>0</td>\n",
       "      <td>0</td>\n",
       "      <td>0</td>\n",
       "      <td>0</td>\n",
       "      <td>0</td>\n",
       "      <td>0</td>\n",
       "      <td>0</td>\n",
       "    </tr>\n",
       "  </tbody>\n",
       "</table>\n",
       "<p>5 rows × 7785 columns</p>\n",
       "</div>"
      ],
      "text/plain": [
       "  Label                                                SMS  got  jaya  nasdaq  \\\n",
       "0   ham                  [yep, by, the, pretty, sculpture]    0     0       0   \n",
       "1   ham  [yes, princess, are, you, going, to, make, me,...    0     0       0   \n",
       "2   ham                    [welp, apparently, he, retired]    0     0       0   \n",
       "3   ham                                           [havent]    0     0       0   \n",
       "4   ham  [i, forgot, 2, ask, ü, all, smth, there, s, a,...    0     0       0   \n",
       "\n",
       "   82468  across  toothpaste  surely  potato  ...  gal  hugs  aiya  thinking  \\\n",
       "0      0       0           0       0       0  ...    0     0     0         0   \n",
       "1      0       0           0       0       0  ...    0     0     0         0   \n",
       "2      0       0           0       0       0  ...    0     0     0         0   \n",
       "3      0       0           0       0       0  ...    0     0     0         0   \n",
       "4      0       0           0       0       0  ...    0     0     0         0   \n",
       "\n",
       "   nike  dracula  mustprovide  fucks  viva  mth  \n",
       "0     0        0            0      0     0    0  \n",
       "1     0        0            0      0     0    0  \n",
       "2     0        0            0      0     0    0  \n",
       "3     0        0            0      0     0    0  \n",
       "4     0        0            0      0     0    0  \n",
       "\n",
       "[5 rows x 7785 columns]"
      ]
     },
     "execution_count": 100,
     "metadata": {},
     "output_type": "execute_result"
    }
   ],
   "source": [
    "training_set_clean = pd.concat([trainData, word_counts], axis=1)\n",
    "training_set_clean.head()"
   ]
  },
  {
   "cell_type": "markdown",
   "id": "6c06b188",
   "metadata": {},
   "source": [
    "Now the training data are finally prepped."
   ]
  },
  {
   "cell_type": "markdown",
   "id": "e9b2b585",
   "metadata": {},
   "source": [
    "### Create the filter"
   ]
  },
  {
   "cell_type": "markdown",
   "id": "b50169d3",
   "metadata": {},
   "source": [
    "Define terms in the equation that will not change from sms to sms.\n",
    "\n",
    "First separate the clean ham and the clean spam."
   ]
  },
  {
   "cell_type": "code",
   "execution_count": 101,
   "id": "44342174",
   "metadata": {},
   "outputs": [],
   "source": [
    "spam_messages = training_set_clean[training_set_clean['Label'] == 'spam']\n",
    "ham_messages = training_set_clean[training_set_clean['Label'] == 'ham']"
   ]
  },
  {
   "cell_type": "markdown",
   "id": "048eba9b",
   "metadata": {},
   "source": [
    "Calculate the probability of spam and the probability of ham."
   ]
  },
  {
   "cell_type": "code",
   "execution_count": 102,
   "id": "2c68ec60",
   "metadata": {},
   "outputs": [],
   "source": [
    "p_spam = len(spam_messages) / len(training_set_clean)\n",
    "p_ham = len(ham_messages) / len(training_set_clean)"
   ]
  },
  {
   "cell_type": "markdown",
   "id": "99b00868",
   "metadata": {},
   "source": [
    "Calculate the number of words in the spam, ham, and vocabulary lists."
   ]
  },
  {
   "cell_type": "code",
   "execution_count": 103,
   "id": "194273ef",
   "metadata": {},
   "outputs": [],
   "source": [
    "n_words_per_spam_message = spam_messages['SMS'].apply(len)\n",
    "n_spam = n_words_per_spam_message.sum()\n",
    "\n",
    "n_words_per_ham_message = ham_messages['SMS'].apply(len)\n",
    "n_ham = n_words_per_ham_message.sum()\n",
    "\n",
    "n_vocabulary = len(vocabulary)\n",
    "\n",
    "alpha = 1"
   ]
  },
  {
   "cell_type": "markdown",
   "id": "c283be29",
   "metadata": {},
   "source": [
    "Laplace smoothing is a technique for handling the problem of zero probability."
   ]
  },
  {
   "cell_type": "markdown",
   "id": "9f7f5f6c",
   "metadata": {},
   "source": [
    "Initiate parameters."
   ]
  },
  {
   "cell_type": "code",
   "execution_count": 104,
   "id": "63ae9192",
   "metadata": {},
   "outputs": [],
   "source": [
    "parameters_spam = {unique_word:0 for unique_word in vocabulary}\n",
    "parameters_ham = {unique_word:0 for unique_word in vocabulary}\n"
   ]
  },
  {
   "cell_type": "markdown",
   "id": "b32607e2",
   "metadata": {},
   "source": [
    "Calculate the parameters."
   ]
  },
  {
   "cell_type": "code",
   "execution_count": 105,
   "id": "94c0dc52",
   "metadata": {},
   "outputs": [],
   "source": [
    "for word in vocabulary:\n",
    "   n_word_given_spam = spam_messages[word].sum()\n",
    "   p_word_given_spam = (n_word_given_spam + alpha) / (n_spam + alpha*n_vocabulary)\n",
    "   parameters_spam[word] = p_word_given_spam\n",
    "\n",
    "   n_word_given_ham = ham_messages[word].sum() \n",
    "   p_word_given_ham = (n_word_given_ham + alpha) / (n_ham + alpha*n_vocabulary)\n",
    "   parameters_ham[word] = p_word_given_ham"
   ]
  },
  {
   "cell_type": "markdown",
   "id": "43574391",
   "metadata": {},
   "source": [
    "** Finally, the spam filter. **"
   ]
  },
  {
   "cell_type": "code",
   "execution_count": 106,
   "id": "0d68edc6",
   "metadata": {},
   "outputs": [],
   "source": [
    "import re\n"
   ]
  },
  {
   "cell_type": "code",
   "execution_count": 107,
   "id": "6eafeb04",
   "metadata": {},
   "outputs": [],
   "source": [
    "def classify(message):\n",
    "    '\" message: a string \"'\n",
    "    message = re.sub('\\W', ' ', message)\n",
    "    message = message.lower().split()\n",
    "\n",
    "    p_spam_given_message = p_spam\n",
    "    p_ham_given_message = p_ham\n",
    "\n",
    "    for word in message:\n",
    "        if word in parameters_spam:\n",
    "            p_spam_given_message *= parameters_spam[word]\n",
    "\n",
    "        if word in parameters_ham: \n",
    "            p_ham_given_message *= parameters_ham[word]\n",
    "\n",
    "    print('P(Spam|message):', p_spam_given_message)\n",
    "    print('P(Ham|message):', p_ham_given_message)\n",
    "\n",
    "    if p_ham_given_message > p_spam_given_message:\n",
    "          print('Label: Ham')\n",
    "    elif p_ham_given_message < p_spam_given_message:\n",
    "          print('Label: Spam')\n",
    "    else:\n",
    "          print('Is it ham? Is it spam? I don\\'t know!')\n"
   ]
  },
  {
   "cell_type": "markdown",
   "id": "f69b5906",
   "metadata": {},
   "source": [
    "Test the filter."
   ]
  },
  {
   "cell_type": "code",
   "execution_count": 108,
   "id": "f256436a",
   "metadata": {},
   "outputs": [
    {
     "name": "stdout",
     "output_type": "stream",
     "text": [
      "P(Spam|message): 1.3481290211300841e-25\n",
      "P(Ham|message): 1.9368049028589875e-27\n",
      "Label: Spam\n"
     ]
    }
   ],
   "source": [
    "classify('WINNER!! This is the secret code to unlock the money: C3421.')"
   ]
  },
  {
   "cell_type": "code",
   "execution_count": 109,
   "id": "8ce8febe",
   "metadata": {},
   "outputs": [
    {
     "name": "stdout",
     "output_type": "stream",
     "text": [
      "P(Spam|message): 2.4372375665888117e-25\n",
      "P(Ham|message): 3.687530435009238e-21\n",
      "Label: Ham\n"
     ]
    }
   ],
   "source": [
    "classify(\"Sounds good, Tom, then see u there\")"
   ]
  },
  {
   "cell_type": "markdown",
   "id": "3ab1f1b1",
   "metadata": {},
   "source": [
    "Rewrite filter code to classify and return, rather than print after each SMS."
   ]
  },
  {
   "cell_type": "code",
   "execution_count": 110,
   "id": "c2066a74",
   "metadata": {},
   "outputs": [],
   "source": [
    "def classify_test_set(message):\n",
    "    '\" message: a string \"'\n",
    "    message = re.sub('\\W', ' ', message)\n",
    "    message = message.lower().split()\n",
    "\n",
    "    p_spam_given_message = p_spam\n",
    "    p_ham_given_message = p_ham\n",
    "\n",
    "    for word in message:\n",
    "        if word in parameters_spam:\n",
    "            p_spam_given_message *= parameters_spam[word]\n",
    "\n",
    "        if word in parameters_ham: \n",
    "            p_ham_given_message *= parameters_ham[word]\n",
    "\n",
    "    if p_ham_given_message > p_spam_given_message:\n",
    "          return('ham')\n",
    "    elif p_ham_given_message < p_spam_given_message:\n",
    "          return('spam')\n",
    "    else:\n",
    "          return('Is it ham? Is it spam? I don\\'t know!')"
   ]
  },
  {
   "cell_type": "markdown",
   "id": "7751bbdc",
   "metadata": {},
   "source": [
    "Use classify function to predict values for SMS and add them as a new column in the dataset."
   ]
  },
  {
   "cell_type": "code",
   "execution_count": 111,
   "id": "7d14678c",
   "metadata": {},
   "outputs": [
    {
     "data": {
      "text/html": [
       "<div>\n",
       "<style scoped>\n",
       "    .dataframe tbody tr th:only-of-type {\n",
       "        vertical-align: middle;\n",
       "    }\n",
       "\n",
       "    .dataframe tbody tr th {\n",
       "        vertical-align: top;\n",
       "    }\n",
       "\n",
       "    .dataframe thead th {\n",
       "        text-align: right;\n",
       "    }\n",
       "</style>\n",
       "<table border=\"1\" class=\"dataframe\">\n",
       "  <thead>\n",
       "    <tr style=\"text-align: right;\">\n",
       "      <th></th>\n",
       "      <th>Label</th>\n",
       "      <th>SMS</th>\n",
       "      <th>predicted</th>\n",
       "    </tr>\n",
       "  </thead>\n",
       "  <tbody>\n",
       "    <tr>\n",
       "      <th>0</th>\n",
       "      <td>ham</td>\n",
       "      <td>Later i guess. I needa do mcat study too.</td>\n",
       "      <td>ham</td>\n",
       "    </tr>\n",
       "    <tr>\n",
       "      <th>1</th>\n",
       "      <td>ham</td>\n",
       "      <td>But i haf enuff space got like 4 mb...</td>\n",
       "      <td>ham</td>\n",
       "    </tr>\n",
       "    <tr>\n",
       "      <th>2</th>\n",
       "      <td>spam</td>\n",
       "      <td>Had your mobile 10 mths? Update to latest Oran...</td>\n",
       "      <td>spam</td>\n",
       "    </tr>\n",
       "    <tr>\n",
       "      <th>3</th>\n",
       "      <td>ham</td>\n",
       "      <td>All sounds good. Fingers . Makes it difficult ...</td>\n",
       "      <td>ham</td>\n",
       "    </tr>\n",
       "    <tr>\n",
       "      <th>4</th>\n",
       "      <td>ham</td>\n",
       "      <td>All done, all handed in. Don't know if mega sh...</td>\n",
       "      <td>ham</td>\n",
       "    </tr>\n",
       "  </tbody>\n",
       "</table>\n",
       "</div>"
      ],
      "text/plain": [
       "  Label                                                SMS predicted\n",
       "0   ham          Later i guess. I needa do mcat study too.       ham\n",
       "1   ham             But i haf enuff space got like 4 mb...       ham\n",
       "2  spam  Had your mobile 10 mths? Update to latest Oran...      spam\n",
       "3   ham  All sounds good. Fingers . Makes it difficult ...       ham\n",
       "4   ham  All done, all handed in. Don't know if mega sh...       ham"
      ]
     },
     "execution_count": 111,
     "metadata": {},
     "output_type": "execute_result"
    }
   ],
   "source": [
    "testData['predicted'] = testData['SMS'].apply(classify_test_set)\n",
    "testData.head()"
   ]
  },
  {
   "cell_type": "markdown",
   "id": "02e5deea",
   "metadata": {},
   "source": [
    "**Create function for measuring accuracy.**"
   ]
  },
  {
   "cell_type": "code",
   "execution_count": 112,
   "id": "df8ba80e",
   "metadata": {},
   "outputs": [
    {
     "name": "stdout",
     "output_type": "stream",
     "text": [
      "Correct: 1100\n",
      "Incorrect: 14\n",
      "Accuracy: 0.9874326750448833\n"
     ]
    }
   ],
   "source": [
    "correct = 0\n",
    "total = testData.shape[0]\n",
    "\n",
    "for row in testData.iterrows():\n",
    "   row = row[1]\n",
    "   if row['Label'] == row['predicted']:\n",
    "      correct += 1\n",
    "\n",
    "print('Correct:', correct)\n",
    "print('Incorrect:', total - correct)\n",
    "print('Accuracy:', correct/total)\n",
    " "
   ]
  },
  {
   "cell_type": "markdown",
   "id": "b0a4593c",
   "metadata": {},
   "source": [
    "## Excellent!"
   ]
  }
 ],
 "metadata": {
  "kernelspec": {
   "display_name": "Python 3 (ipykernel)",
   "language": "python",
   "name": "python3"
  },
  "language_info": {
   "codemirror_mode": {
    "name": "ipython",
    "version": 3
   },
   "file_extension": ".py",
   "mimetype": "text/x-python",
   "name": "python",
   "nbconvert_exporter": "python",
   "pygments_lexer": "ipython3",
   "version": "3.9.7"
  }
 },
 "nbformat": 4,
 "nbformat_minor": 5
}
